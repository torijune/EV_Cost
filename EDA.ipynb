{
 "cells": [
  {
   "cell_type": "code",
   "execution_count": 46,
   "metadata": {},
   "outputs": [],
   "source": [
    "import pandas as pd\n",
    "import numpy as np\n",
    "import matplotlib as mpl\n",
    "import matplotlib.pyplot as plt\n",
    "import matplotlib.font_manager as fm\n",
    "import seaborn as sns\n",
    "import warnings\n",
    "warnings.filterwarnings('ignore')"
   ]
  },
  {
   "cell_type": "code",
   "execution_count": 47,
   "metadata": {},
   "outputs": [],
   "source": [
    "font_path = '/System/Library/AssetsV2/com_apple_MobileAsset_Font7/bad9b4bf17cf1669dde54184ba4431c22dcad27b.asset/AssetData/NanumGothic.ttc'\n",
    "fontprop = fm.FontProperties(fname = font_path, size = 10)"
   ]
  },
  {
   "cell_type": "markdown",
   "metadata": {},
   "source": [
    "# 데이터 로드 및 확인"
   ]
  },
  {
   "cell_type": "code",
   "execution_count": 69,
   "metadata": {},
   "outputs": [],
   "source": [
    "train = pd.read_csv('EV_Cost_data/train.csv')\n",
    "test = pd.read_csv('EV_Cost_data/test.csv')\n",
    "sample = pd.read_csv('EV_Cost_data/sample_submission.csv')"
   ]
  },
  {
   "cell_type": "code",
   "execution_count": 49,
   "metadata": {},
   "outputs": [
    {
     "data": {
      "text/html": [
       "<div>\n",
       "<style scoped>\n",
       "    .dataframe tbody tr th:only-of-type {\n",
       "        vertical-align: middle;\n",
       "    }\n",
       "\n",
       "    .dataframe tbody tr th {\n",
       "        vertical-align: top;\n",
       "    }\n",
       "\n",
       "    .dataframe thead th {\n",
       "        text-align: right;\n",
       "    }\n",
       "</style>\n",
       "<table border=\"1\" class=\"dataframe\">\n",
       "  <thead>\n",
       "    <tr style=\"text-align: right;\">\n",
       "      <th></th>\n",
       "      <th>ID</th>\n",
       "      <th>제조사</th>\n",
       "      <th>모델</th>\n",
       "      <th>차량상태</th>\n",
       "      <th>배터리용량</th>\n",
       "      <th>구동방식</th>\n",
       "      <th>주행거리(km)</th>\n",
       "      <th>보증기간(년)</th>\n",
       "      <th>사고이력</th>\n",
       "      <th>연식(년)</th>\n",
       "      <th>가격(백만원)</th>\n",
       "    </tr>\n",
       "  </thead>\n",
       "  <tbody>\n",
       "    <tr>\n",
       "      <th>0</th>\n",
       "      <td>TRAIN_0000</td>\n",
       "      <td>P사</td>\n",
       "      <td>TayGTS</td>\n",
       "      <td>Nearly New</td>\n",
       "      <td>86.077</td>\n",
       "      <td>AWD</td>\n",
       "      <td>13642</td>\n",
       "      <td>0</td>\n",
       "      <td>No</td>\n",
       "      <td>2</td>\n",
       "      <td>159.66</td>\n",
       "    </tr>\n",
       "  </tbody>\n",
       "</table>\n",
       "</div>"
      ],
      "text/plain": [
       "           ID 제조사      모델        차량상태   배터리용량 구동방식  주행거리(km)  보증기간(년) 사고이력  \\\n",
       "0  TRAIN_0000  P사  TayGTS  Nearly New  86.077  AWD     13642        0   No   \n",
       "\n",
       "   연식(년)  가격(백만원)  \n",
       "0      2   159.66  "
      ]
     },
     "execution_count": 49,
     "metadata": {},
     "output_type": "execute_result"
    }
   ],
   "source": [
    "train.head(1)"
   ]
  },
  {
   "cell_type": "code",
   "execution_count": 50,
   "metadata": {},
   "outputs": [
    {
     "name": "stdout",
     "output_type": "stream",
     "text": [
      "ID            0\n",
      "제조사           0\n",
      "모델            0\n",
      "차량상태          0\n",
      "배터리용량       304\n",
      "구동방식          0\n",
      "주행거리(km)      0\n",
      "보증기간(년)       0\n",
      "사고이력          0\n",
      "연식(년)         0\n",
      "dtype: int64\n"
     ]
    },
    {
     "data": {
      "text/html": [
       "<div>\n",
       "<style scoped>\n",
       "    .dataframe tbody tr th:only-of-type {\n",
       "        vertical-align: middle;\n",
       "    }\n",
       "\n",
       "    .dataframe tbody tr th {\n",
       "        vertical-align: top;\n",
       "    }\n",
       "\n",
       "    .dataframe thead th {\n",
       "        text-align: right;\n",
       "    }\n",
       "</style>\n",
       "<table border=\"1\" class=\"dataframe\">\n",
       "  <thead>\n",
       "    <tr style=\"text-align: right;\">\n",
       "      <th></th>\n",
       "      <th>ID</th>\n",
       "      <th>제조사</th>\n",
       "      <th>모델</th>\n",
       "      <th>차량상태</th>\n",
       "      <th>배터리용량</th>\n",
       "      <th>구동방식</th>\n",
       "      <th>주행거리(km)</th>\n",
       "      <th>보증기간(년)</th>\n",
       "      <th>사고이력</th>\n",
       "      <th>연식(년)</th>\n",
       "    </tr>\n",
       "  </thead>\n",
       "  <tbody>\n",
       "    <tr>\n",
       "      <th>0</th>\n",
       "      <td>TEST_000</td>\n",
       "      <td>P사</td>\n",
       "      <td>TayCT</td>\n",
       "      <td>Nearly New</td>\n",
       "      <td>76.093</td>\n",
       "      <td>AWD</td>\n",
       "      <td>14057</td>\n",
       "      <td>2</td>\n",
       "      <td>No</td>\n",
       "      <td>0</td>\n",
       "    </tr>\n",
       "  </tbody>\n",
       "</table>\n",
       "</div>"
      ],
      "text/plain": [
       "         ID 제조사     모델        차량상태   배터리용량 구동방식  주행거리(km)  보증기간(년) 사고이력  연식(년)\n",
       "0  TEST_000  P사  TayCT  Nearly New  76.093  AWD     14057        2   No      0"
      ]
     },
     "execution_count": 50,
     "metadata": {},
     "output_type": "execute_result"
    }
   ],
   "source": [
    "print(test.isna().sum())\n",
    "\n",
    "test.head(1)"
   ]
  },
  {
   "cell_type": "code",
   "execution_count": 51,
   "metadata": {},
   "outputs": [
    {
     "data": {
      "text/html": [
       "<div>\n",
       "<style scoped>\n",
       "    .dataframe tbody tr th:only-of-type {\n",
       "        vertical-align: middle;\n",
       "    }\n",
       "\n",
       "    .dataframe tbody tr th {\n",
       "        vertical-align: top;\n",
       "    }\n",
       "\n",
       "    .dataframe thead th {\n",
       "        text-align: right;\n",
       "    }\n",
       "</style>\n",
       "<table border=\"1\" class=\"dataframe\">\n",
       "  <thead>\n",
       "    <tr style=\"text-align: right;\">\n",
       "      <th></th>\n",
       "      <th>제조사</th>\n",
       "      <th>모델</th>\n",
       "      <th>차량상태</th>\n",
       "      <th>배터리용량</th>\n",
       "      <th>구동방식</th>\n",
       "      <th>주행거리(km)</th>\n",
       "      <th>보증기간(년)</th>\n",
       "      <th>사고이력</th>\n",
       "      <th>연식(년)</th>\n",
       "      <th>연간_주행거리</th>\n",
       "      <th>제조사_카테고리</th>\n",
       "    </tr>\n",
       "  </thead>\n",
       "  <tbody>\n",
       "    <tr>\n",
       "      <th>0</th>\n",
       "      <td>4</td>\n",
       "      <td>15</td>\n",
       "      <td>1</td>\n",
       "      <td>76.093</td>\n",
       "      <td>0</td>\n",
       "      <td>14057</td>\n",
       "      <td>2</td>\n",
       "      <td>0</td>\n",
       "      <td>0</td>\n",
       "      <td>14057.0</td>\n",
       "      <td>3</td>\n",
       "    </tr>\n",
       "  </tbody>\n",
       "</table>\n",
       "</div>"
      ],
      "text/plain": [
       "   제조사  모델 차량상태   배터리용량  구동방식  주행거리(km)  보증기간(년)  사고이력  연식(년)  연간_주행거리  \\\n",
       "0    4  15    1  76.093     0     14057        2     0      0  14057.0   \n",
       "\n",
       "   제조사_카테고리  \n",
       "0         3  "
      ]
     },
     "execution_count": 51,
     "metadata": {},
     "output_type": "execute_result"
    }
   ],
   "source": [
    "from test_preprocessing import main\n",
    "test_preprocessor = main\n",
    "pre_test = test_preprocessor(test)\n",
    "pre_test.head(1)"
   ]
  },
  {
   "cell_type": "code",
   "execution_count": 52,
   "metadata": {},
   "outputs": [
    {
     "data": {
      "text/html": [
       "<div>\n",
       "<style scoped>\n",
       "    .dataframe tbody tr th:only-of-type {\n",
       "        vertical-align: middle;\n",
       "    }\n",
       "\n",
       "    .dataframe tbody tr th {\n",
       "        vertical-align: top;\n",
       "    }\n",
       "\n",
       "    .dataframe thead th {\n",
       "        text-align: right;\n",
       "    }\n",
       "</style>\n",
       "<table border=\"1\" class=\"dataframe\">\n",
       "  <thead>\n",
       "    <tr style=\"text-align: right;\">\n",
       "      <th></th>\n",
       "      <th>ID</th>\n",
       "      <th>제조사</th>\n",
       "      <th>모델</th>\n",
       "      <th>차량상태</th>\n",
       "      <th>배터리용량</th>\n",
       "      <th>구동방식</th>\n",
       "      <th>주행거리(km)</th>\n",
       "      <th>보증기간(년)</th>\n",
       "      <th>사고이력</th>\n",
       "      <th>연식(년)</th>\n",
       "      <th>가격(백만원)</th>\n",
       "      <th>연간_주행거리</th>\n",
       "      <th>가격구간</th>\n",
       "      <th>제조사_카테고리</th>\n",
       "    </tr>\n",
       "  </thead>\n",
       "  <tbody>\n",
       "    <tr>\n",
       "      <th>0</th>\n",
       "      <td>0</td>\n",
       "      <td>4</td>\n",
       "      <td>16</td>\n",
       "      <td>1</td>\n",
       "      <td>86.077</td>\n",
       "      <td>0</td>\n",
       "      <td>13642</td>\n",
       "      <td>0</td>\n",
       "      <td>0</td>\n",
       "      <td>2</td>\n",
       "      <td>159.66</td>\n",
       "      <td>4547.333333</td>\n",
       "      <td>0</td>\n",
       "      <td>3</td>\n",
       "    </tr>\n",
       "  </tbody>\n",
       "</table>\n",
       "</div>"
      ],
      "text/plain": [
       "   ID  제조사  모델 차량상태   배터리용량  구동방식  주행거리(km)  보증기간(년)  사고이력  연식(년)  가격(백만원)  \\\n",
       "0   0    4  16    1  86.077     0     13642        0     0      2   159.66   \n",
       "\n",
       "       연간_주행거리  가격구간  제조사_카테고리  \n",
       "0  4547.333333     0         3  "
      ]
     },
     "execution_count": 52,
     "metadata": {},
     "output_type": "execute_result"
    }
   ],
   "source": [
    "from preprocessor import main\n",
    "preprocessor = main\n",
    "pre_train = preprocessor(train)\n",
    "pre_train.head(1)"
   ]
  },
  {
   "cell_type": "markdown",
   "metadata": {},
   "source": [
    "**변수 별 개인 생각**\n",
    "- ID, 모델 : \"모델\"은 가격에 영향을 줄 것 같지만 과적합 문제가 있을 수 있으니 일반화 성능을 구현하는 데에는 drop이 더 편할 듯\n",
    "- 제조사에 따라서 가격이 나누어 질 것으로 예상됨 (브랜드 별로 가격 차이가 많이 나니까)\n",
    "- 주행거리, 사고이력, 연식 등이 중고차 가격에 많은 영향을 미칠 것 같음"
   ]
  },
  {
   "cell_type": "code",
   "execution_count": 53,
   "metadata": {},
   "outputs": [
    {
     "data": {
      "text/html": [
       "<div>\n",
       "<style scoped>\n",
       "    .dataframe tbody tr th:only-of-type {\n",
       "        vertical-align: middle;\n",
       "    }\n",
       "\n",
       "    .dataframe tbody tr th {\n",
       "        vertical-align: top;\n",
       "    }\n",
       "\n",
       "    .dataframe thead th {\n",
       "        text-align: right;\n",
       "    }\n",
       "</style>\n",
       "<table border=\"1\" class=\"dataframe\">\n",
       "  <thead>\n",
       "    <tr style=\"text-align: right;\">\n",
       "      <th></th>\n",
       "      <th>ID</th>\n",
       "      <th>제조사</th>\n",
       "      <th>모델</th>\n",
       "      <th>차량상태</th>\n",
       "      <th>배터리용량</th>\n",
       "      <th>구동방식</th>\n",
       "      <th>주행거리(km)</th>\n",
       "      <th>보증기간(년)</th>\n",
       "      <th>사고이력</th>\n",
       "      <th>연식(년)</th>\n",
       "      <th>연간_주행거리</th>\n",
       "    </tr>\n",
       "  </thead>\n",
       "  <tbody>\n",
       "    <tr>\n",
       "      <th>0</th>\n",
       "      <td>0</td>\n",
       "      <td>4</td>\n",
       "      <td>15</td>\n",
       "      <td>1</td>\n",
       "      <td>76.093</td>\n",
       "      <td>0</td>\n",
       "      <td>14057</td>\n",
       "      <td>2</td>\n",
       "      <td>0</td>\n",
       "      <td>0</td>\n",
       "      <td>14057.0</td>\n",
       "    </tr>\n",
       "  </tbody>\n",
       "</table>\n",
       "</div>"
      ],
      "text/plain": [
       "   ID  제조사  모델 차량상태   배터리용량  구동방식  주행거리(km)  보증기간(년)  사고이력  연식(년)  연간_주행거리\n",
       "0   0    4  15    1  76.093     0     14057        2     0      0  14057.0"
      ]
     },
     "execution_count": 53,
     "metadata": {},
     "output_type": "execute_result"
    }
   ],
   "source": [
    "test.head(1)"
   ]
  },
  {
   "cell_type": "code",
   "execution_count": 54,
   "metadata": {},
   "outputs": [
    {
     "data": {
      "text/html": [
       "<div>\n",
       "<style scoped>\n",
       "    .dataframe tbody tr th:only-of-type {\n",
       "        vertical-align: middle;\n",
       "    }\n",
       "\n",
       "    .dataframe tbody tr th {\n",
       "        vertical-align: top;\n",
       "    }\n",
       "\n",
       "    .dataframe thead th {\n",
       "        text-align: right;\n",
       "    }\n",
       "</style>\n",
       "<table border=\"1\" class=\"dataframe\">\n",
       "  <thead>\n",
       "    <tr style=\"text-align: right;\">\n",
       "      <th></th>\n",
       "      <th>ID</th>\n",
       "      <th>가격(백만원)</th>\n",
       "    </tr>\n",
       "  </thead>\n",
       "  <tbody>\n",
       "    <tr>\n",
       "      <th>0</th>\n",
       "      <td>TEST_000</td>\n",
       "      <td>0</td>\n",
       "    </tr>\n",
       "  </tbody>\n",
       "</table>\n",
       "</div>"
      ],
      "text/plain": [
       "         ID  가격(백만원)\n",
       "0  TEST_000        0"
      ]
     },
     "execution_count": 54,
     "metadata": {},
     "output_type": "execute_result"
    }
   ],
   "source": [
    "sample.head(1)"
   ]
  },
  {
   "cell_type": "code",
   "execution_count": 60,
   "metadata": {},
   "outputs": [
    {
     "name": "stdout",
     "output_type": "stream",
     "text": [
      "<class 'pandas.core.frame.DataFrame'>\n",
      "RangeIndex: 7497 entries, 0 to 7496\n",
      "Data columns (total 13 columns):\n",
      " #   Column    Non-Null Count  Dtype  \n",
      "---  ------    --------------  -----  \n",
      " 0   ID        7497 non-null   object \n",
      " 1   제조사       7497 non-null   object \n",
      " 2   모델        7497 non-null   object \n",
      " 3   차량상태      7497 non-null   object \n",
      " 4   배터리용량     4786 non-null   float64\n",
      " 5   구동방식      7497 non-null   object \n",
      " 6   주행거리(km)  7497 non-null   int64  \n",
      " 7   보증기간(년)   7497 non-null   int64  \n",
      " 8   사고이력      7497 non-null   object \n",
      " 9   연식(년)     7497 non-null   int64  \n",
      " 10  가격(백만원)   7497 non-null   float64\n",
      " 11  연간_주행거리   7497 non-null   float64\n",
      " 12  가격구간      7497 non-null   object \n",
      "dtypes: float64(3), int64(3), object(7)\n",
      "memory usage: 761.5+ KB\n"
     ]
    }
   ],
   "source": [
    "train.info()"
   ]
  },
  {
   "cell_type": "code",
   "execution_count": 61,
   "metadata": {},
   "outputs": [
    {
     "data": {
      "text/plain": [
       "ID             0\n",
       "제조사            0\n",
       "모델             0\n",
       "차량상태           0\n",
       "배터리용량       2711\n",
       "구동방식           0\n",
       "주행거리(km)       0\n",
       "보증기간(년)        0\n",
       "사고이력           0\n",
       "연식(년)          0\n",
       "가격(백만원)        0\n",
       "연간_주행거리        0\n",
       "가격구간           0\n",
       "dtype: int64"
      ]
     },
     "execution_count": 61,
     "metadata": {},
     "output_type": "execute_result"
    }
   ],
   "source": [
    "train.isnull().sum()"
   ]
  },
  {
   "cell_type": "code",
   "execution_count": 74,
   "metadata": {},
   "outputs": [
    {
     "data": {
      "text/html": [
       "<div>\n",
       "<style scoped>\n",
       "    .dataframe tbody tr th:only-of-type {\n",
       "        vertical-align: middle;\n",
       "    }\n",
       "\n",
       "    .dataframe tbody tr th {\n",
       "        vertical-align: top;\n",
       "    }\n",
       "\n",
       "    .dataframe thead th {\n",
       "        text-align: right;\n",
       "    }\n",
       "</style>\n",
       "<table border=\"1\" class=\"dataframe\">\n",
       "  <thead>\n",
       "    <tr style=\"text-align: right;\">\n",
       "      <th></th>\n",
       "      <th>ID</th>\n",
       "      <th>제조사</th>\n",
       "      <th>모델</th>\n",
       "      <th>차량상태</th>\n",
       "      <th>배터리용량</th>\n",
       "      <th>구동방식</th>\n",
       "      <th>주행거리(km)</th>\n",
       "      <th>보증기간(년)</th>\n",
       "      <th>사고이력</th>\n",
       "      <th>연식(년)</th>\n",
       "      <th>가격(백만원)</th>\n",
       "      <th>연간_주행거리</th>\n",
       "      <th>가격구간</th>\n",
       "      <th>제조사_카테고리</th>\n",
       "    </tr>\n",
       "  </thead>\n",
       "  <tbody>\n",
       "    <tr>\n",
       "      <th>0</th>\n",
       "      <td>0</td>\n",
       "      <td>4</td>\n",
       "      <td>16</td>\n",
       "      <td>1</td>\n",
       "      <td>86.077</td>\n",
       "      <td>0</td>\n",
       "      <td>13642</td>\n",
       "      <td>0</td>\n",
       "      <td>0</td>\n",
       "      <td>2</td>\n",
       "      <td>159.66</td>\n",
       "      <td>4547.333333</td>\n",
       "      <td>0</td>\n",
       "      <td>3</td>\n",
       "    </tr>\n",
       "    <tr>\n",
       "      <th>16</th>\n",
       "      <td>16</td>\n",
       "      <td>4</td>\n",
       "      <td>15</td>\n",
       "      <td>1</td>\n",
       "      <td>76.093</td>\n",
       "      <td>0</td>\n",
       "      <td>49335</td>\n",
       "      <td>2</td>\n",
       "      <td>0</td>\n",
       "      <td>0</td>\n",
       "      <td>130.61</td>\n",
       "      <td>49335.000000</td>\n",
       "      <td>0</td>\n",
       "      <td>3</td>\n",
       "    </tr>\n",
       "    <tr>\n",
       "      <th>31</th>\n",
       "      <td>31</td>\n",
       "      <td>4</td>\n",
       "      <td>16</td>\n",
       "      <td>2</td>\n",
       "      <td>64.683</td>\n",
       "      <td>0</td>\n",
       "      <td>97476</td>\n",
       "      <td>2</td>\n",
       "      <td>0</td>\n",
       "      <td>0</td>\n",
       "      <td>151.00</td>\n",
       "      <td>97476.000000</td>\n",
       "      <td>0</td>\n",
       "      <td>3</td>\n",
       "    </tr>\n",
       "    <tr>\n",
       "      <th>32</th>\n",
       "      <td>32</td>\n",
       "      <td>4</td>\n",
       "      <td>15</td>\n",
       "      <td>0</td>\n",
       "      <td>90.000</td>\n",
       "      <td>0</td>\n",
       "      <td>1292</td>\n",
       "      <td>2</td>\n",
       "      <td>0</td>\n",
       "      <td>0</td>\n",
       "      <td>120.08</td>\n",
       "      <td>1292.000000</td>\n",
       "      <td>0</td>\n",
       "      <td>3</td>\n",
       "    </tr>\n",
       "    <tr>\n",
       "      <th>56</th>\n",
       "      <td>56</td>\n",
       "      <td>4</td>\n",
       "      <td>16</td>\n",
       "      <td>0</td>\n",
       "      <td>92.516</td>\n",
       "      <td>0</td>\n",
       "      <td>9161</td>\n",
       "      <td>2</td>\n",
       "      <td>0</td>\n",
       "      <td>0</td>\n",
       "      <td>160.73</td>\n",
       "      <td>9161.000000</td>\n",
       "      <td>0</td>\n",
       "      <td>3</td>\n",
       "    </tr>\n",
       "    <tr>\n",
       "      <th>...</th>\n",
       "      <td>...</td>\n",
       "      <td>...</td>\n",
       "      <td>...</td>\n",
       "      <td>...</td>\n",
       "      <td>...</td>\n",
       "      <td>...</td>\n",
       "      <td>...</td>\n",
       "      <td>...</td>\n",
       "      <td>...</td>\n",
       "      <td>...</td>\n",
       "      <td>...</td>\n",
       "      <td>...</td>\n",
       "      <td>...</td>\n",
       "      <td>...</td>\n",
       "    </tr>\n",
       "    <tr>\n",
       "      <th>7448</th>\n",
       "      <td>7448</td>\n",
       "      <td>4</td>\n",
       "      <td>16</td>\n",
       "      <td>2</td>\n",
       "      <td>70.185</td>\n",
       "      <td>0</td>\n",
       "      <td>184495</td>\n",
       "      <td>2</td>\n",
       "      <td>0</td>\n",
       "      <td>0</td>\n",
       "      <td>156.47</td>\n",
       "      <td>184495.000000</td>\n",
       "      <td>0</td>\n",
       "      <td>3</td>\n",
       "    </tr>\n",
       "    <tr>\n",
       "      <th>7465</th>\n",
       "      <td>7465</td>\n",
       "      <td>4</td>\n",
       "      <td>14</td>\n",
       "      <td>0</td>\n",
       "      <td>90.000</td>\n",
       "      <td>0</td>\n",
       "      <td>2765</td>\n",
       "      <td>2</td>\n",
       "      <td>0</td>\n",
       "      <td>0</td>\n",
       "      <td>104.25</td>\n",
       "      <td>2765.000000</td>\n",
       "      <td>0</td>\n",
       "      <td>3</td>\n",
       "    </tr>\n",
       "    <tr>\n",
       "      <th>7469</th>\n",
       "      <td>7469</td>\n",
       "      <td>4</td>\n",
       "      <td>15</td>\n",
       "      <td>1</td>\n",
       "      <td>76.093</td>\n",
       "      <td>0</td>\n",
       "      <td>17891</td>\n",
       "      <td>0</td>\n",
       "      <td>0</td>\n",
       "      <td>2</td>\n",
       "      <td>119.83</td>\n",
       "      <td>5963.666667</td>\n",
       "      <td>0</td>\n",
       "      <td>3</td>\n",
       "    </tr>\n",
       "    <tr>\n",
       "      <th>7479</th>\n",
       "      <td>7479</td>\n",
       "      <td>4</td>\n",
       "      <td>16</td>\n",
       "      <td>2</td>\n",
       "      <td>70.185</td>\n",
       "      <td>0</td>\n",
       "      <td>78364</td>\n",
       "      <td>2</td>\n",
       "      <td>0</td>\n",
       "      <td>0</td>\n",
       "      <td>155.80</td>\n",
       "      <td>78364.000000</td>\n",
       "      <td>0</td>\n",
       "      <td>3</td>\n",
       "    </tr>\n",
       "    <tr>\n",
       "      <th>7494</th>\n",
       "      <td>7494</td>\n",
       "      <td>4</td>\n",
       "      <td>15</td>\n",
       "      <td>0</td>\n",
       "      <td>90.000</td>\n",
       "      <td>0</td>\n",
       "      <td>1363</td>\n",
       "      <td>2</td>\n",
       "      <td>0</td>\n",
       "      <td>0</td>\n",
       "      <td>120.00</td>\n",
       "      <td>1363.000000</td>\n",
       "      <td>0</td>\n",
       "      <td>3</td>\n",
       "    </tr>\n",
       "  </tbody>\n",
       "</table>\n",
       "<p>1071 rows × 14 columns</p>\n",
       "</div>"
      ],
      "text/plain": [
       "        ID  제조사  모델 차량상태   배터리용량  구동방식  주행거리(km)  보증기간(년)  사고이력  연식(년)  \\\n",
       "0        0    4  16    1  86.077     0     13642        0     0      2   \n",
       "16      16    4  15    1  76.093     0     49335        2     0      0   \n",
       "31      31    4  16    2  64.683     0     97476        2     0      0   \n",
       "32      32    4  15    0  90.000     0      1292        2     0      0   \n",
       "56      56    4  16    0  92.516     0      9161        2     0      0   \n",
       "...    ...  ...  ..  ...     ...   ...       ...      ...   ...    ...   \n",
       "7448  7448    4  16    2  70.185     0    184495        2     0      0   \n",
       "7465  7465    4  14    0  90.000     0      2765        2     0      0   \n",
       "7469  7469    4  15    1  76.093     0     17891        0     0      2   \n",
       "7479  7479    4  16    2  70.185     0     78364        2     0      0   \n",
       "7494  7494    4  15    0  90.000     0      1363        2     0      0   \n",
       "\n",
       "      가격(백만원)        연간_주행거리  가격구간  제조사_카테고리  \n",
       "0      159.66    4547.333333     0         3  \n",
       "16     130.61   49335.000000     0         3  \n",
       "31     151.00   97476.000000     0         3  \n",
       "32     120.08    1292.000000     0         3  \n",
       "56     160.73    9161.000000     0         3  \n",
       "...       ...            ...   ...       ...  \n",
       "7448   156.47  184495.000000     0         3  \n",
       "7465   104.25    2765.000000     0         3  \n",
       "7469   119.83    5963.666667     0         3  \n",
       "7479   155.80   78364.000000     0         3  \n",
       "7494   120.00    1363.000000     0         3  \n",
       "\n",
       "[1071 rows x 14 columns]"
      ]
     },
     "execution_count": 74,
     "metadata": {},
     "output_type": "execute_result"
    }
   ],
   "source": [
    "pre_train[pre_train['제조사'] == 4]"
   ]
  },
  {
   "cell_type": "code",
   "execution_count": null,
   "metadata": {},
   "outputs": [
    {
     "name": "stdout",
     "output_type": "stream",
     "text": [
      "P사의 모델들 : ['TayGTS' 'TayCT' 'Tay']\n",
      "K사의 모델들 : ['Niro' 'Soul' 'EV6']\n",
      "A사의 모델들 : ['eT' 'RSeTGT' 'Q4eT']\n",
      "B사의 모델들 : ['i5' 'iX' 'i3']\n",
      "H사의 모델들 : ['ION6' 'IONIQ' 'KNE' 'ION5']\n",
      "T사의 모델들 : ['MS' 'MY' 'MX' 'M3']\n",
      "V사의 모델들 : ['ID4']\n"
     ]
    }
   ],
   "source": [
    "for n in train['제조사'].unique():\n",
    "    print(f\"{n}의 모델들 :\", train[train['제조사'] == n]['모델'].unique())\n",
    "# P : 포르쉐\n",
    "# K : 기아\n",
    "# A : 아우디\n",
    "# B : 비엠\n",
    "# H : 현대\n",
    "# T : 테슬라\n",
    "# V : 폭스바겐"
   ]
  },
  {
   "cell_type": "code",
   "execution_count": 57,
   "metadata": {},
   "outputs": [
    {
     "data": {
      "text/plain": [
       "array(['RSeTGT', 'MS', 'MY', 'Q4eT', 'ID4', 'Niro', 'ION6', 'iX', 'MX',\n",
       "       'TayCT', 'EV6', 'i5', 'KNE', 'M3', 'TayGTS', 'i3', 'ION5', 'Tay',\n",
       "       'Soul', 'IONIQ', 'eT'], dtype=object)"
      ]
     },
     "execution_count": 57,
     "metadata": {},
     "output_type": "execute_result"
    }
   ],
   "source": [
    "train[train['배터리용량'].isna()]['모델'].unique()"
   ]
  },
  {
   "cell_type": "code",
   "execution_count": 62,
   "metadata": {},
   "outputs": [],
   "source": [
    "# 널값이 있는 모델 목록 가져오기\n",
    "models_with_nan = train[train['배터리용량'].isna()]['모델'].unique()\n",
    "\n",
    "# 각 모델별로 널값을 평균으로 채우기\n",
    "for model in models_with_nan:\n",
    "    mean_battery = train[train['모델'] == model]['배터리용량'].mean()\n",
    "    train.loc[(train['모델'] == model) & (train['배터리용량'].isna()), '배터리용량'] = mean_battery"
   ]
  },
  {
   "cell_type": "code",
   "execution_count": 63,
   "metadata": {},
   "outputs": [
    {
     "data": {
      "text/plain": [
       "54.57893333333333"
      ]
     },
     "execution_count": 63,
     "metadata": {},
     "output_type": "execute_result"
    }
   ],
   "source": [
    "train[train['모델'] == 'Niro']['배터리용량'].mean()"
   ]
  },
  {
   "cell_type": "code",
   "execution_count": 64,
   "metadata": {},
   "outputs": [
    {
     "data": {
      "image/png": "[encoded data removed]",
      "text/plain": [
       "<Figure size 800x600 with 1 Axes>"
      ]
     },
     "metadata": {},
     "output_type": "display_data"
    }
   ],
   "source": [
    "plt.figure(figsize=(8, 6))\n",
    "plt.scatter(train['배터리용량'], train['가격(백만원)'], color='blue', edgecolor='k', alpha=0.7)\n",
    "plt.title('배터리용량 vs 가격', fontproperties = fontprop)\n",
    "plt.xlabel('배터리용량 (kWh)', fontproperties = fontprop)\n",
    "plt.ylabel('가격 (백만원)', fontproperties = fontprop)\n",
    "plt.grid(True)\n",
    "plt.show()"
   ]
  },
  {
   "cell_type": "markdown",
   "metadata": {},
   "source": [
    "**배터리 용량 Column에 2711개의 널데이터 존재**   \n",
    "->널 데이터는 배터리가 없는 pure 연료 차 인가? 하지만 EV인데?"
   ]
  },
  {
   "cell_type": "markdown",
   "metadata": {},
   "source": [
    "# 데이터 EDA"
   ]
  },
  {
   "cell_type": "markdown",
   "metadata": {},
   "source": [
    "## train data eda"
   ]
  },
  {
   "cell_type": "code",
   "execution_count": 41,
   "metadata": {},
   "outputs": [
    {
     "data": {
      "text/plain": [
       "연식(년)\n",
       "0    6395\n",
       "2     566\n",
       "1     536\n",
       "Name: count, dtype: int64"
      ]
     },
     "execution_count": 41,
     "metadata": {},
     "output_type": "execute_result"
    }
   ],
   "source": [
    "train['연식(년)'].value_counts()"
   ]
  },
  {
   "cell_type": "code",
   "execution_count": 42,
   "metadata": {},
   "outputs": [
    {
     "data": {
      "text/plain": [
       "보증기간(년)\n",
       "2     1358\n",
       "7     1093\n",
       "8     1073\n",
       "0      618\n",
       "1      552\n",
       "10     522\n",
       "9      515\n",
       "3      494\n",
       "5      428\n",
       "4      426\n",
       "6      418\n",
       "Name: count, dtype: int64"
      ]
     },
     "execution_count": 42,
     "metadata": {},
     "output_type": "execute_result"
    }
   ],
   "source": [
    "train['보증기간(년)'].value_counts()"
   ]
  },
  {
   "cell_type": "markdown",
   "metadata": {},
   "source": [
    "**0년식? 신차?가 너무 많다** -> 카테고리화가 되어 있음"
   ]
  },
  {
   "cell_type": "code",
   "execution_count": 43,
   "metadata": {},
   "outputs": [
    {
     "data": {
      "text/plain": [
       "배터리용량\n",
       "90.000    559\n",
       "56.000    327\n",
       "46.000    223\n",
       "68.488    202\n",
       "76.093    186\n",
       "         ... \n",
       "59.920      1\n",
       "62.100      1\n",
       "65.210      1\n",
       "58.260      1\n",
       "67.170      1\n",
       "Name: count, Length: 194, dtype: int64"
      ]
     },
     "execution_count": 43,
     "metadata": {},
     "output_type": "execute_result"
    }
   ],
   "source": [
    "train['배터리용량'].value_counts()"
   ]
  },
  {
   "cell_type": "code",
   "execution_count": 44,
   "metadata": {},
   "outputs": [
    {
     "data": {
      "text/plain": [
       "모델\n",
       "ID4       605\n",
       "i5        414\n",
       "Niro      398\n",
       "Soul      397\n",
       "i3        388\n",
       "RSeTGT    385\n",
       "eT        379\n",
       "ION6      379\n",
       "Q4eT      378\n",
       "TayGTS    375\n",
       "EV6       369\n",
       "iX        367\n",
       "KNE       365\n",
       "Tay       361\n",
       "ION5      353\n",
       "TayCT     335\n",
       "MY        289\n",
       "M3        279\n",
       "MS        277\n",
       "MX        264\n",
       "IONIQ     140\n",
       "Name: count, dtype: int64"
      ]
     },
     "execution_count": 44,
     "metadata": {},
     "output_type": "execute_result"
    }
   ],
   "source": [
    "train['모델'].value_counts()"
   ]
  },
  {
   "cell_type": "code",
   "execution_count": 45,
   "metadata": {},
   "outputs": [
    {
     "data": {
      "text/html": [
       "<div>\n",
       "<style scoped>\n",
       "    .dataframe tbody tr th:only-of-type {\n",
       "        vertical-align: middle;\n",
       "    }\n",
       "\n",
       "    .dataframe tbody tr th {\n",
       "        vertical-align: top;\n",
       "    }\n",
       "\n",
       "    .dataframe thead th {\n",
       "        text-align: right;\n",
       "    }\n",
       "</style>\n",
       "<table border=\"1\" class=\"dataframe\">\n",
       "  <thead>\n",
       "    <tr style=\"text-align: right;\">\n",
       "      <th></th>\n",
       "      <th>배터리용량</th>\n",
       "      <th>주행거리(km)</th>\n",
       "      <th>보증기간(년)</th>\n",
       "      <th>연식(년)</th>\n",
       "      <th>가격(백만원)</th>\n",
       "    </tr>\n",
       "  </thead>\n",
       "  <tbody>\n",
       "    <tr>\n",
       "      <th>count</th>\n",
       "      <td>4786.000000</td>\n",
       "      <td>7497.000000</td>\n",
       "      <td>7497.000000</td>\n",
       "      <td>7497.000000</td>\n",
       "      <td>7497.000000</td>\n",
       "    </tr>\n",
       "    <tr>\n",
       "      <th>mean</th>\n",
       "      <td>69.397187</td>\n",
       "      <td>44287.979458</td>\n",
       "      <td>4.960918</td>\n",
       "      <td>0.222489</td>\n",
       "      <td>62.331949</td>\n",
       "    </tr>\n",
       "    <tr>\n",
       "      <th>std</th>\n",
       "      <td>15.283635</td>\n",
       "      <td>55204.064386</td>\n",
       "      <td>3.155342</td>\n",
       "      <td>0.569232</td>\n",
       "      <td>36.646759</td>\n",
       "    </tr>\n",
       "    <tr>\n",
       "      <th>min</th>\n",
       "      <td>46.000000</td>\n",
       "      <td>3.000000</td>\n",
       "      <td>0.000000</td>\n",
       "      <td>0.000000</td>\n",
       "      <td>9.000000</td>\n",
       "    </tr>\n",
       "    <tr>\n",
       "      <th>25%</th>\n",
       "      <td>56.359000</td>\n",
       "      <td>5465.000000</td>\n",
       "      <td>2.000000</td>\n",
       "      <td>0.000000</td>\n",
       "      <td>34.390000</td>\n",
       "    </tr>\n",
       "    <tr>\n",
       "      <th>50%</th>\n",
       "      <td>68.125000</td>\n",
       "      <td>17331.000000</td>\n",
       "      <td>5.000000</td>\n",
       "      <td>0.000000</td>\n",
       "      <td>56.000000</td>\n",
       "    </tr>\n",
       "    <tr>\n",
       "      <th>75%</th>\n",
       "      <td>78.227000</td>\n",
       "      <td>61252.000000</td>\n",
       "      <td>8.000000</td>\n",
       "      <td>0.000000</td>\n",
       "      <td>80.050000</td>\n",
       "    </tr>\n",
       "    <tr>\n",
       "      <th>max</th>\n",
       "      <td>99.800000</td>\n",
       "      <td>199827.000000</td>\n",
       "      <td>10.000000</td>\n",
       "      <td>2.000000</td>\n",
       "      <td>161.090000</td>\n",
       "    </tr>\n",
       "  </tbody>\n",
       "</table>\n",
       "</div>"
      ],
      "text/plain": [
       "             배터리용량       주행거리(km)      보증기간(년)        연식(년)      가격(백만원)\n",
       "count  4786.000000    7497.000000  7497.000000  7497.000000  7497.000000\n",
       "mean     69.397187   44287.979458     4.960918     0.222489    62.331949\n",
       "std      15.283635   55204.064386     3.155342     0.569232    36.646759\n",
       "min      46.000000       3.000000     0.000000     0.000000     9.000000\n",
       "25%      56.359000    5465.000000     2.000000     0.000000    34.390000\n",
       "50%      68.125000   17331.000000     5.000000     0.000000    56.000000\n",
       "75%      78.227000   61252.000000     8.000000     0.000000    80.050000\n",
       "max      99.800000  199827.000000    10.000000     2.000000   161.090000"
      ]
     },
     "execution_count": 45,
     "metadata": {},
     "output_type": "execute_result"
    }
   ],
   "source": [
    "train.describe()"
   ]
  },
  {
   "cell_type": "code",
   "execution_count": 10,
   "metadata": {},
   "outputs": [
    {
     "data": {
      "text/plain": [
       "array(['Nearly New', 'Brand New', 'Pre-Owned'], dtype=object)"
      ]
     },
     "execution_count": 10,
     "metadata": {},
     "output_type": "execute_result"
    }
   ],
   "source": [
    "train['차량상태'].unique()"
   ]
  },
  {
   "cell_type": "code",
   "execution_count": 20,
   "metadata": {},
   "outputs": [
    {
     "name": "stdout",
     "output_type": "stream",
     "text": [
      "Nearly New의 describe :\n",
      "count     2059.000000\n",
      "mean     30602.352113\n",
      "std      12257.976737\n",
      "min      10004.000000\n",
      "25%      20499.000000\n",
      "50%      30453.000000\n",
      "75%      40270.000000\n",
      "max      79226.000000\n",
      "Name: 주행거리(km), dtype: float64\n",
      "Brand New의 describe :\n",
      "count    3380.000000\n",
      "mean     4935.953550\n",
      "std      2897.745303\n",
      "min         3.000000\n",
      "25%      2372.750000\n",
      "50%      4980.000000\n",
      "75%      7440.750000\n",
      "max      9999.000000\n",
      "Name: 주행거리(km), dtype: float64\n",
      "Pre-Owned의 describe :\n",
      "count      2058.000000\n",
      "mean     122610.892128\n",
      "std       45517.411096\n",
      "min       11477.000000\n",
      "25%       82717.000000\n",
      "50%      123352.500000\n",
      "75%      161763.500000\n",
      "max      199827.000000\n",
      "Name: 주행거리(km), dtype: float64\n"
     ]
    }
   ],
   "source": [
    "for status in train['차량상태'].unique():\n",
    "    des = train[train['차량상태'] == status]['주행거리(km)'].describe()\n",
    "    print(f\"{status}의 describe :\")\n",
    "    print(f\"{des}\")"
   ]
  },
  {
   "cell_type": "code",
   "execution_count": 24,
   "metadata": {},
   "outputs": [
    {
     "name": "stdout",
     "output_type": "stream",
     "text": [
      "['AWD' 'FWD' 'RWD']\n",
      "구동방식\n",
      "AWD    5167\n",
      "FWD    1267\n",
      "RWD    1063\n",
      "Name: count, dtype: int64\n"
     ]
    }
   ],
   "source": [
    "print(train['구동방식'].unique())\n",
    "print(train['구동방식'].value_counts())"
   ]
  },
  {
   "cell_type": "code",
   "execution_count": 25,
   "metadata": {},
   "outputs": [
    {
     "name": "stdout",
     "output_type": "stream",
     "text": [
      "['No' 'Yes']\n",
      "사고이력\n",
      "No     7154\n",
      "Yes     343\n",
      "Name: count, dtype: int64\n"
     ]
    }
   ],
   "source": [
    "print(train['사고이력'].unique())\n",
    "print(train['사고이력'].value_counts())"
   ]
  },
  {
   "cell_type": "code",
   "execution_count": null,
   "metadata": {},
   "outputs": [
    {
     "name": "stdout",
     "output_type": "stream",
     "text": [
      "Mean: 62.331948779511805, Std: 36.64675928062657\n",
      "Boundaries: Low <= 25.685189498885237, Mid = (25.685189498885237, 98.97870806013837], High > 98.97870806013837\n"
     ]
    },
    {
     "data": {
      "text/html": [
       "<div>\n",
       "<style scoped>\n",
       "    .dataframe tbody tr th:only-of-type {\n",
       "        vertical-align: middle;\n",
       "    }\n",
       "\n",
       "    .dataframe tbody tr th {\n",
       "        vertical-align: top;\n",
       "    }\n",
       "\n",
       "    .dataframe thead th {\n",
       "        text-align: right;\n",
       "    }\n",
       "</style>\n",
       "<table border=\"1\" class=\"dataframe\">\n",
       "  <thead>\n",
       "    <tr style=\"text-align: right;\">\n",
       "      <th></th>\n",
       "      <th>ID</th>\n",
       "      <th>제조사</th>\n",
       "      <th>모델</th>\n",
       "      <th>차량상태</th>\n",
       "      <th>배터리용량</th>\n",
       "      <th>구동방식</th>\n",
       "      <th>주행거리(km)</th>\n",
       "      <th>보증기간(년)</th>\n",
       "      <th>사고이력</th>\n",
       "      <th>연식(년)</th>\n",
       "      <th>가격(백만원)</th>\n",
       "      <th>가격(백만원)_log</th>\n",
       "      <th>가격구간</th>\n",
       "    </tr>\n",
       "  </thead>\n",
       "  <tbody>\n",
       "    <tr>\n",
       "      <th>0</th>\n",
       "      <td>TRAIN_0000</td>\n",
       "      <td>P사</td>\n",
       "      <td>TayGTS</td>\n",
       "      <td>Nearly New</td>\n",
       "      <td>86.077</td>\n",
       "      <td>AWD</td>\n",
       "      <td>13642</td>\n",
       "      <td>0</td>\n",
       "      <td>No</td>\n",
       "      <td>2</td>\n",
       "      <td>159.66</td>\n",
       "      <td>5.079290</td>\n",
       "      <td>고가</td>\n",
       "    </tr>\n",
       "    <tr>\n",
       "      <th>1</th>\n",
       "      <td>TRAIN_0001</td>\n",
       "      <td>K사</td>\n",
       "      <td>Niro</td>\n",
       "      <td>Nearly New</td>\n",
       "      <td>56.000</td>\n",
       "      <td>FWD</td>\n",
       "      <td>10199</td>\n",
       "      <td>6</td>\n",
       "      <td>No</td>\n",
       "      <td>0</td>\n",
       "      <td>28.01</td>\n",
       "      <td>3.367641</td>\n",
       "      <td>중가</td>\n",
       "    </tr>\n",
       "    <tr>\n",
       "      <th>2</th>\n",
       "      <td>TRAIN_0002</td>\n",
       "      <td>A사</td>\n",
       "      <td>eT</td>\n",
       "      <td>Brand New</td>\n",
       "      <td>91.200</td>\n",
       "      <td>AWD</td>\n",
       "      <td>2361</td>\n",
       "      <td>7</td>\n",
       "      <td>No</td>\n",
       "      <td>0</td>\n",
       "      <td>66.27</td>\n",
       "      <td>4.208714</td>\n",
       "      <td>중가</td>\n",
       "    </tr>\n",
       "    <tr>\n",
       "      <th>3</th>\n",
       "      <td>TRAIN_0003</td>\n",
       "      <td>A사</td>\n",
       "      <td>RSeTGT</td>\n",
       "      <td>Nearly New</td>\n",
       "      <td>NaN</td>\n",
       "      <td>AWD</td>\n",
       "      <td>21683</td>\n",
       "      <td>3</td>\n",
       "      <td>No</td>\n",
       "      <td>0</td>\n",
       "      <td>99.16</td>\n",
       "      <td>4.606769</td>\n",
       "      <td>고가</td>\n",
       "    </tr>\n",
       "    <tr>\n",
       "      <th>4</th>\n",
       "      <td>TRAIN_0004</td>\n",
       "      <td>B사</td>\n",
       "      <td>i5</td>\n",
       "      <td>Pre-Owned</td>\n",
       "      <td>61.018</td>\n",
       "      <td>AWD</td>\n",
       "      <td>178205</td>\n",
       "      <td>1</td>\n",
       "      <td>No</td>\n",
       "      <td>0</td>\n",
       "      <td>62.02</td>\n",
       "      <td>4.143452</td>\n",
       "      <td>중가</td>\n",
       "    </tr>\n",
       "  </tbody>\n",
       "</table>\n",
       "</div>"
      ],
      "text/plain": [
       "           ID 제조사      모델        차량상태   배터리용량 구동방식  주행거리(km)  보증기간(년) 사고이력  \\\n",
       "0  TRAIN_0000  P사  TayGTS  Nearly New  86.077  AWD     13642        0   No   \n",
       "1  TRAIN_0001  K사    Niro  Nearly New  56.000  FWD     10199        6   No   \n",
       "2  TRAIN_0002  A사      eT   Brand New  91.200  AWD      2361        7   No   \n",
       "3  TRAIN_0003  A사  RSeTGT  Nearly New     NaN  AWD     21683        3   No   \n",
       "4  TRAIN_0004  B사      i5   Pre-Owned  61.018  AWD    178205        1   No   \n",
       "\n",
       "   연식(년)  가격(백만원)  가격(백만원)_log 가격구간  \n",
       "0      2   159.66     5.079290   고가  \n",
       "1      0    28.01     3.367641   중가  \n",
       "2      0    66.27     4.208714   중가  \n",
       "3      0    99.16     4.606769   고가  \n",
       "4      0    62.02     4.143452   중가  "
      ]
     },
     "execution_count": 56,
     "metadata": {},
     "output_type": "execute_result"
    }
   ],
   "source": [
    "from target_preprocessing import categorize_by_quantiles, categorize_by_mean_std, categorize_by_kmeans, categorize_by_gmm\n",
    "\n",
    "# 평균을 기준으로 고가 저가 등을 나눔\n",
    "\n",
    "train['가격구간'] = categorize_by_mean_std(train, column=\"가격(백만원)\")\n",
    "train.head()"
   ]
  },
  {
   "cell_type": "code",
   "execution_count": 59,
   "metadata": {},
   "outputs": [
    {
     "data": {
      "text/plain": [
       "가격구간\n",
       "고가    984\n",
       "중가     87\n",
       "Name: count, dtype: int64"
      ]
     },
     "execution_count": 59,
     "metadata": {},
     "output_type": "execute_result"
    }
   ],
   "source": [
    "train[train['제조사'] == 'P사']['가격구간'].value_counts()"
   ]
  },
  {
   "cell_type": "code",
   "execution_count": 27,
   "metadata": {},
   "outputs": [
    {
     "name": "stdout",
     "output_type": "stream",
     "text": [
      "배터리 용량 널 데이터 수 :  2711\n"
     ]
    },
    {
     "data": {
      "text/html": [
       "<div>\n",
       "<style scoped>\n",
       "    .dataframe tbody tr th:only-of-type {\n",
       "        vertical-align: middle;\n",
       "    }\n",
       "\n",
       "    .dataframe tbody tr th {\n",
       "        vertical-align: top;\n",
       "    }\n",
       "\n",
       "    .dataframe thead th {\n",
       "        text-align: right;\n",
       "    }\n",
       "</style>\n",
       "<table border=\"1\" class=\"dataframe\">\n",
       "  <thead>\n",
       "    <tr style=\"text-align: right;\">\n",
       "      <th></th>\n",
       "      <th>ID</th>\n",
       "      <th>제조사</th>\n",
       "      <th>모델</th>\n",
       "      <th>차량상태</th>\n",
       "      <th>배터리용량</th>\n",
       "      <th>구동방식</th>\n",
       "      <th>주행거리(km)</th>\n",
       "      <th>보증기간(년)</th>\n",
       "      <th>사고이력</th>\n",
       "      <th>연식(년)</th>\n",
       "      <th>가격(백만원)</th>\n",
       "    </tr>\n",
       "  </thead>\n",
       "  <tbody>\n",
       "    <tr>\n",
       "      <th>3</th>\n",
       "      <td>TRAIN_0003</td>\n",
       "      <td>A사</td>\n",
       "      <td>RSeTGT</td>\n",
       "      <td>Nearly New</td>\n",
       "      <td>NaN</td>\n",
       "      <td>AWD</td>\n",
       "      <td>21683</td>\n",
       "      <td>3</td>\n",
       "      <td>No</td>\n",
       "      <td>0</td>\n",
       "      <td>99.16</td>\n",
       "    </tr>\n",
       "    <tr>\n",
       "      <th>6</th>\n",
       "      <td>TRAIN_0006</td>\n",
       "      <td>T사</td>\n",
       "      <td>MS</td>\n",
       "      <td>Nearly New</td>\n",
       "      <td>NaN</td>\n",
       "      <td>AWD</td>\n",
       "      <td>19395</td>\n",
       "      <td>3</td>\n",
       "      <td>No</td>\n",
       "      <td>0</td>\n",
       "      <td>83.42</td>\n",
       "    </tr>\n",
       "    <tr>\n",
       "      <th>8</th>\n",
       "      <td>TRAIN_0008</td>\n",
       "      <td>T사</td>\n",
       "      <td>MY</td>\n",
       "      <td>Brand New</td>\n",
       "      <td>NaN</td>\n",
       "      <td>AWD</td>\n",
       "      <td>2226</td>\n",
       "      <td>8</td>\n",
       "      <td>No</td>\n",
       "      <td>0</td>\n",
       "      <td>74.06</td>\n",
       "    </tr>\n",
       "    <tr>\n",
       "      <th>9</th>\n",
       "      <td>TRAIN_0009</td>\n",
       "      <td>A사</td>\n",
       "      <td>Q4eT</td>\n",
       "      <td>Brand New</td>\n",
       "      <td>NaN</td>\n",
       "      <td>AWD</td>\n",
       "      <td>3683</td>\n",
       "      <td>7</td>\n",
       "      <td>No</td>\n",
       "      <td>0</td>\n",
       "      <td>59.66</td>\n",
       "    </tr>\n",
       "    <tr>\n",
       "      <th>11</th>\n",
       "      <td>TRAIN_0011</td>\n",
       "      <td>V사</td>\n",
       "      <td>ID4</td>\n",
       "      <td>Brand New</td>\n",
       "      <td>NaN</td>\n",
       "      <td>AWD</td>\n",
       "      <td>1131</td>\n",
       "      <td>8</td>\n",
       "      <td>No</td>\n",
       "      <td>0</td>\n",
       "      <td>40.50</td>\n",
       "    </tr>\n",
       "    <tr>\n",
       "      <th>...</th>\n",
       "      <td>...</td>\n",
       "      <td>...</td>\n",
       "      <td>...</td>\n",
       "      <td>...</td>\n",
       "      <td>...</td>\n",
       "      <td>...</td>\n",
       "      <td>...</td>\n",
       "      <td>...</td>\n",
       "      <td>...</td>\n",
       "      <td>...</td>\n",
       "      <td>...</td>\n",
       "    </tr>\n",
       "    <tr>\n",
       "      <th>7489</th>\n",
       "      <td>TRAIN_7489</td>\n",
       "      <td>H사</td>\n",
       "      <td>ION5</td>\n",
       "      <td>Brand New</td>\n",
       "      <td>NaN</td>\n",
       "      <td>AWD</td>\n",
       "      <td>8871</td>\n",
       "      <td>9</td>\n",
       "      <td>No</td>\n",
       "      <td>0</td>\n",
       "      <td>35.83</td>\n",
       "    </tr>\n",
       "    <tr>\n",
       "      <th>7490</th>\n",
       "      <td>TRAIN_7490</td>\n",
       "      <td>A사</td>\n",
       "      <td>Q4eT</td>\n",
       "      <td>Brand New</td>\n",
       "      <td>NaN</td>\n",
       "      <td>AWD</td>\n",
       "      <td>5794</td>\n",
       "      <td>7</td>\n",
       "      <td>No</td>\n",
       "      <td>0</td>\n",
       "      <td>59.95</td>\n",
       "    </tr>\n",
       "    <tr>\n",
       "      <th>7491</th>\n",
       "      <td>TRAIN_7491</td>\n",
       "      <td>K사</td>\n",
       "      <td>Soul</td>\n",
       "      <td>Brand New</td>\n",
       "      <td>NaN</td>\n",
       "      <td>FWD</td>\n",
       "      <td>5966</td>\n",
       "      <td>10</td>\n",
       "      <td>No</td>\n",
       "      <td>0</td>\n",
       "      <td>16.75</td>\n",
       "    </tr>\n",
       "    <tr>\n",
       "      <th>7492</th>\n",
       "      <td>TRAIN_7492</td>\n",
       "      <td>H사</td>\n",
       "      <td>ION5</td>\n",
       "      <td>Brand New</td>\n",
       "      <td>NaN</td>\n",
       "      <td>AWD</td>\n",
       "      <td>3773</td>\n",
       "      <td>10</td>\n",
       "      <td>No</td>\n",
       "      <td>0</td>\n",
       "      <td>35.95</td>\n",
       "    </tr>\n",
       "    <tr>\n",
       "      <th>7494</th>\n",
       "      <td>TRAIN_7494</td>\n",
       "      <td>P사</td>\n",
       "      <td>TayCT</td>\n",
       "      <td>Brand New</td>\n",
       "      <td>NaN</td>\n",
       "      <td>AWD</td>\n",
       "      <td>1363</td>\n",
       "      <td>2</td>\n",
       "      <td>No</td>\n",
       "      <td>0</td>\n",
       "      <td>120.00</td>\n",
       "    </tr>\n",
       "  </tbody>\n",
       "</table>\n",
       "<p>2711 rows × 11 columns</p>\n",
       "</div>"
      ],
      "text/plain": [
       "              ID 제조사      모델        차량상태  배터리용량 구동방식  주행거리(km)  보증기간(년) 사고이력  \\\n",
       "3     TRAIN_0003  A사  RSeTGT  Nearly New    NaN  AWD     21683        3   No   \n",
       "6     TRAIN_0006  T사      MS  Nearly New    NaN  AWD     19395        3   No   \n",
       "8     TRAIN_0008  T사      MY   Brand New    NaN  AWD      2226        8   No   \n",
       "9     TRAIN_0009  A사    Q4eT   Brand New    NaN  AWD      3683        7   No   \n",
       "11    TRAIN_0011  V사     ID4   Brand New    NaN  AWD      1131        8   No   \n",
       "...          ...  ..     ...         ...    ...  ...       ...      ...  ...   \n",
       "7489  TRAIN_7489  H사    ION5   Brand New    NaN  AWD      8871        9   No   \n",
       "7490  TRAIN_7490  A사    Q4eT   Brand New    NaN  AWD      5794        7   No   \n",
       "7491  TRAIN_7491  K사    Soul   Brand New    NaN  FWD      5966       10   No   \n",
       "7492  TRAIN_7492  H사    ION5   Brand New    NaN  AWD      3773       10   No   \n",
       "7494  TRAIN_7494  P사   TayCT   Brand New    NaN  AWD      1363        2   No   \n",
       "\n",
       "      연식(년)  가격(백만원)  \n",
       "3         0    99.16  \n",
       "6         0    83.42  \n",
       "8         0    74.06  \n",
       "9         0    59.66  \n",
       "11        0    40.50  \n",
       "...     ...      ...  \n",
       "7489      0    35.83  \n",
       "7490      0    59.95  \n",
       "7491      0    16.75  \n",
       "7492      0    35.95  \n",
       "7494      0   120.00  \n",
       "\n",
       "[2711 rows x 11 columns]"
      ]
     },
     "execution_count": 27,
     "metadata": {},
     "output_type": "execute_result"
    }
   ],
   "source": [
    "print(\"배터리 용량 널 데이터 수 : \", len(train[train['배터리용량'].isna()]))\n",
    "train[train['배터리용량'].isna()]"
   ]
  },
  {
   "cell_type": "code",
   "execution_count": 70,
   "metadata": {},
   "outputs": [
    {
     "data": {
      "text/plain": [
       "array(['P사', 'K사', 'A사', 'B사', 'H사', 'T사', 'V사'], dtype=object)"
      ]
     },
     "execution_count": 70,
     "metadata": {},
     "output_type": "execute_result"
    }
   ],
   "source": [
    "train['제조사'].unique()"
   ]
  },
  {
   "cell_type": "markdown",
   "metadata": {},
   "source": [
    "# 전처리 후 데이터 EDA"
   ]
  },
  {
   "cell_type": "code",
   "execution_count": null,
   "metadata": {},
   "outputs": [],
   "source": []
  }
 ],
 "metadata": {
  "kernelspec": {
   "display_name": "Python 3",
   "language": "python",
   "name": "python3"
  },
  "language_info": {
   "codemirror_mode": {
    "name": "ipython",
    "version": 3
   },
   "file_extension": ".py",
   "mimetype": "text/x-python",
   "name": "python",
   "nbconvert_exporter": "python",
   "pygments_lexer": "ipython3",
   "version": "3.12.5"
  }
 },
 "nbformat": 4,
 "nbformat_minor": 2
}
